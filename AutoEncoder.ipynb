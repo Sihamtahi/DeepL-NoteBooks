{
  "nbformat": 4,
  "nbformat_minor": 0,
  "metadata": {
    "colab": {
      "name": "AutoEncoder.ipynb",
      "provenance": [],
      "authorship_tag": "ABX9TyNkm+66zUm4OzwFXW8zpu7B",
      "include_colab_link": true
    },
    "kernelspec": {
      "name": "python3",
      "display_name": "Python 3"
    },
    "language_info": {
      "name": "python"
    }
  },
  "cells": [
    {
      "cell_type": "markdown",
      "metadata": {
        "id": "view-in-github",
        "colab_type": "text"
      },
      "source": [
        "<a href=\"https://colab.research.google.com/github/Sihamtahi/DeepL-NoteBooks/blob/main/AutoEncoder.ipynb\" target=\"_parent\"><img src=\"https://colab.research.google.com/assets/colab-badge.svg\" alt=\"Open In Colab\"/></a>"
      ]
    },
    {
      "cell_type": "code",
      "metadata": {
        "colab": {
          "base_uri": "https://localhost:8080/"
        },
        "id": "fp050Z4aRQtW",
        "outputId": "45cb2dcb-c451-4e7e-edca-19e1faa5cbcb"
      },
      "source": [
        "!pip install tensorflow"
      ],
      "execution_count": 1,
      "outputs": [
        {
          "output_type": "stream",
          "name": "stdout",
          "text": [
            "Requirement already satisfied: tensorflow in /usr/local/lib/python3.7/dist-packages (2.7.0)\n",
            "Requirement already satisfied: wheel<1.0,>=0.32.0 in /usr/local/lib/python3.7/dist-packages (from tensorflow) (0.37.0)\n",
            "Requirement already satisfied: tensorboard~=2.6 in /usr/local/lib/python3.7/dist-packages (from tensorflow) (2.7.0)\n",
            "Requirement already satisfied: flatbuffers<3.0,>=1.12 in /usr/local/lib/python3.7/dist-packages (from tensorflow) (2.0)\n",
            "Requirement already satisfied: tensorflow-estimator<2.8,~=2.7.0rc0 in /usr/local/lib/python3.7/dist-packages (from tensorflow) (2.7.0)\n",
            "Requirement already satisfied: grpcio<2.0,>=1.24.3 in /usr/local/lib/python3.7/dist-packages (from tensorflow) (1.41.1)\n",
            "Requirement already satisfied: opt-einsum>=2.3.2 in /usr/local/lib/python3.7/dist-packages (from tensorflow) (3.3.0)\n",
            "Requirement already satisfied: protobuf>=3.9.2 in /usr/local/lib/python3.7/dist-packages (from tensorflow) (3.17.3)\n",
            "Requirement already satisfied: numpy>=1.14.5 in /usr/local/lib/python3.7/dist-packages (from tensorflow) (1.19.5)\n",
            "Requirement already satisfied: six>=1.12.0 in /usr/local/lib/python3.7/dist-packages (from tensorflow) (1.15.0)\n",
            "Requirement already satisfied: tensorflow-io-gcs-filesystem>=0.21.0 in /usr/local/lib/python3.7/dist-packages (from tensorflow) (0.21.0)\n",
            "Requirement already satisfied: astunparse>=1.6.0 in /usr/local/lib/python3.7/dist-packages (from tensorflow) (1.6.3)\n",
            "Requirement already satisfied: absl-py>=0.4.0 in /usr/local/lib/python3.7/dist-packages (from tensorflow) (0.12.0)\n",
            "Requirement already satisfied: gast<0.5.0,>=0.2.1 in /usr/local/lib/python3.7/dist-packages (from tensorflow) (0.4.0)\n",
            "Requirement already satisfied: h5py>=2.9.0 in /usr/local/lib/python3.7/dist-packages (from tensorflow) (3.1.0)\n",
            "Requirement already satisfied: typing-extensions>=3.6.6 in /usr/local/lib/python3.7/dist-packages (from tensorflow) (3.10.0.2)\n",
            "Requirement already satisfied: termcolor>=1.1.0 in /usr/local/lib/python3.7/dist-packages (from tensorflow) (1.1.0)\n",
            "Requirement already satisfied: keras-preprocessing>=1.1.1 in /usr/local/lib/python3.7/dist-packages (from tensorflow) (1.1.2)\n",
            "Requirement already satisfied: libclang>=9.0.1 in /usr/local/lib/python3.7/dist-packages (from tensorflow) (12.0.0)\n",
            "Requirement already satisfied: wrapt>=1.11.0 in /usr/local/lib/python3.7/dist-packages (from tensorflow) (1.13.3)\n",
            "Requirement already satisfied: keras<2.8,>=2.7.0rc0 in /usr/local/lib/python3.7/dist-packages (from tensorflow) (2.7.0)\n",
            "Requirement already satisfied: google-pasta>=0.1.1 in /usr/local/lib/python3.7/dist-packages (from tensorflow) (0.2.0)\n",
            "Requirement already satisfied: cached-property in /usr/local/lib/python3.7/dist-packages (from h5py>=2.9.0->tensorflow) (1.5.2)\n",
            "Requirement already satisfied: setuptools>=41.0.0 in /usr/local/lib/python3.7/dist-packages (from tensorboard~=2.6->tensorflow) (57.4.0)\n",
            "Requirement already satisfied: markdown>=2.6.8 in /usr/local/lib/python3.7/dist-packages (from tensorboard~=2.6->tensorflow) (3.3.4)\n",
            "Requirement already satisfied: requests<3,>=2.21.0 in /usr/local/lib/python3.7/dist-packages (from tensorboard~=2.6->tensorflow) (2.23.0)\n",
            "Requirement already satisfied: google-auth-oauthlib<0.5,>=0.4.1 in /usr/local/lib/python3.7/dist-packages (from tensorboard~=2.6->tensorflow) (0.4.6)\n",
            "Requirement already satisfied: werkzeug>=0.11.15 in /usr/local/lib/python3.7/dist-packages (from tensorboard~=2.6->tensorflow) (1.0.1)\n",
            "Requirement already satisfied: google-auth<3,>=1.6.3 in /usr/local/lib/python3.7/dist-packages (from tensorboard~=2.6->tensorflow) (1.35.0)\n",
            "Requirement already satisfied: tensorboard-data-server<0.7.0,>=0.6.0 in /usr/local/lib/python3.7/dist-packages (from tensorboard~=2.6->tensorflow) (0.6.1)\n",
            "Requirement already satisfied: tensorboard-plugin-wit>=1.6.0 in /usr/local/lib/python3.7/dist-packages (from tensorboard~=2.6->tensorflow) (1.8.0)\n",
            "Requirement already satisfied: rsa<5,>=3.1.4 in /usr/local/lib/python3.7/dist-packages (from google-auth<3,>=1.6.3->tensorboard~=2.6->tensorflow) (4.7.2)\n",
            "Requirement already satisfied: cachetools<5.0,>=2.0.0 in /usr/local/lib/python3.7/dist-packages (from google-auth<3,>=1.6.3->tensorboard~=2.6->tensorflow) (4.2.4)\n",
            "Requirement already satisfied: pyasn1-modules>=0.2.1 in /usr/local/lib/python3.7/dist-packages (from google-auth<3,>=1.6.3->tensorboard~=2.6->tensorflow) (0.2.8)\n",
            "Requirement already satisfied: requests-oauthlib>=0.7.0 in /usr/local/lib/python3.7/dist-packages (from google-auth-oauthlib<0.5,>=0.4.1->tensorboard~=2.6->tensorflow) (1.3.0)\n",
            "Requirement already satisfied: importlib-metadata in /usr/local/lib/python3.7/dist-packages (from markdown>=2.6.8->tensorboard~=2.6->tensorflow) (4.8.2)\n",
            "Requirement already satisfied: pyasn1<0.5.0,>=0.4.6 in /usr/local/lib/python3.7/dist-packages (from pyasn1-modules>=0.2.1->google-auth<3,>=1.6.3->tensorboard~=2.6->tensorflow) (0.4.8)\n",
            "Requirement already satisfied: certifi>=2017.4.17 in /usr/local/lib/python3.7/dist-packages (from requests<3,>=2.21.0->tensorboard~=2.6->tensorflow) (2021.10.8)\n",
            "Requirement already satisfied: chardet<4,>=3.0.2 in /usr/local/lib/python3.7/dist-packages (from requests<3,>=2.21.0->tensorboard~=2.6->tensorflow) (3.0.4)\n",
            "Requirement already satisfied: idna<3,>=2.5 in /usr/local/lib/python3.7/dist-packages (from requests<3,>=2.21.0->tensorboard~=2.6->tensorflow) (2.10)\n",
            "Requirement already satisfied: urllib3!=1.25.0,!=1.25.1,<1.26,>=1.21.1 in /usr/local/lib/python3.7/dist-packages (from requests<3,>=2.21.0->tensorboard~=2.6->tensorflow) (1.24.3)\n",
            "Requirement already satisfied: oauthlib>=3.0.0 in /usr/local/lib/python3.7/dist-packages (from requests-oauthlib>=0.7.0->google-auth-oauthlib<0.5,>=0.4.1->tensorboard~=2.6->tensorflow) (3.1.1)\n",
            "Requirement already satisfied: zipp>=0.5 in /usr/local/lib/python3.7/dist-packages (from importlib-metadata->markdown>=2.6.8->tensorboard~=2.6->tensorflow) (3.6.0)\n"
          ]
        }
      ]
    },
    {
      "cell_type": "code",
      "metadata": {
        "colab": {
          "base_uri": "https://localhost:8080/"
        },
        "id": "Tpten0m2Riav",
        "outputId": "0dd05568-d258-48e6-90e8-57f9b421d785"
      },
      "source": [
        "import tensorflow as tf\n",
        "import numpy as np\n",
        "from  matplotlib import pyplot as plt\n",
        "print(\"TensorFlow version:\", tf.__version__)"
      ],
      "execution_count": 2,
      "outputs": [
        {
          "output_type": "stream",
          "name": "stdout",
          "text": [
            "TensorFlow version: 2.7.0\n"
          ]
        }
      ]
    },
    {
      "cell_type": "code",
      "metadata": {
        "id": "7K5gYHpOR1SY"
      },
      "source": [
        "num_units = 10\n",
        "embedding_dim = 2\n",
        "dropout = .1\n",
        "recurrent_dropout = .1"
      ],
      "execution_count": 3,
      "outputs": []
    },
    {
      "cell_type": "code",
      "metadata": {
        "id": "bPHjH9d6X5YO"
      },
      "source": [
        "def simu_data(sample_per_group=15000):\n",
        "    time = np.stack([np.arange(10)]*sample_per_group, axis=0).astype(np.float32)\n",
        "    time = np.pi / 2 * time + np.random.uniform(low=-4, high=4, size=[sample_per_group, 1])\n",
        "    group_a = 5*np.sin(time) + 10 + np.random.normal(0, 1, size=[sample_per_group, 10])\n",
        "    group_b = 10 + np.random.normal(0, 1, size=[sample_per_group, 10])\n",
        "    X = np.concatenate([group_a, group_b])\n",
        "    y = np.concatenate([\n",
        "        np.zeros(dtype=np.int32, shape=sample_per_group),\n",
        "        np.ones(dtype=np.int32, shape=sample_per_group)\n",
        "    ])\n",
        "    shuffling = np.arange(sample_per_group * 2)\n",
        "    np.random.shuffle(shuffling)\n",
        "    X = X[shuffling]\n",
        "    y = y[shuffling]\n",
        "    return X, y"
      ],
      "execution_count": 4,
      "outputs": []
    },
    {
      "cell_type": "code",
      "metadata": {
        "id": "ovnf1-2-ZfhK"
      },
      "source": [
        "def my_encoder(my_inputs):\n",
        "    encoder_RNN = tf.keras.layers.LSTM(num_units, dropout=dropout, recurrent_dropout=recurrent_dropout)\n",
        "    encoder_linear = tf.keras.layers.Dense(embedding_dim)\n",
        "    encoder_RNN_out = encoder_RNN(my_inputs)\n",
        "    return encoder_linear(encoder_RNN_out)\n"
      ],
      "execution_count": 5,
      "outputs": []
    },
    {
      "cell_type": "code",
      "metadata": {
        "id": "Vnaz00aYZlqq"
      },
      "source": [
        "def my_decoder(embedded_vector, my_shifted_inputs):\n",
        "    \n",
        "    decoder_RNN = tf.keras.layers.LSTM(\n",
        "        num_units,\n",
        "        dropout=dropout,\n",
        "        recurrent_dropout=recurrent_dropout,\n",
        "        return_sequences=True\n",
        "    )\n",
        "    decoder_linear = tf.keras.layers.Dense(num_units)\n",
        "    predictor = tf.keras.layers.Dense(1)\n",
        "    decoder_initial_state = decoder_linear(embedded_vector)\n",
        "    decoder_RNN_out = decoder_RNN(\n",
        "        my_shifted_inputs,\n",
        "        initial_state=[decoder_initial_state, tf.keras.backend.zeros_like(decoder_initial_state)]\n",
        "    )\n",
        "    return predictor(decoder_RNN_out)"
      ],
      "execution_count": 6,
      "outputs": []
    },
    {
      "cell_type": "code",
      "metadata": {
        "colab": {
          "base_uri": "https://localhost:8080/",
          "height": 1000
        },
        "id": "H_BErt_kZo8C",
        "outputId": "5de51d18-e0be-492c-ca81-283c9f1f1b40"
      },
      "source": [
        "x, y = simu_data()\n",
        "\n",
        "group_a = x[np.argwhere(y == 0).flatten()]\n",
        "group_b = x[np.argwhere(y == 1).flatten()]\n",
        "X_in = tf.keras.Input(shape=[10])\n",
        "inputs = tf.expand_dims(X_in, axis=-1)\n",
        "\n",
        "shifted_inputs = tf.pad(inputs, [[0, 0], [1, 0], [0, 0]], constant_values=0.)[:, :-1]\n",
        "\n",
        "embedded_vector = my_encoder(inputs)\n",
        "decoded_sequences = my_decoder(embedded_vector, shifted_inputs)\n",
        "\n",
        "encoder = tf.keras.Model(inputs=X_in, outputs=embedded_vector)\n",
        "\n",
        "autoencoder = tf.keras.Model(inputs=X_in, outputs=decoded_sequences)\n",
        "autoencoder.compile(optimizer='adam', loss=tf.keras.losses.MeanSquaredError())\n",
        "autoencoder.fit(x, x, epochs=25, shuffle=True, validation_split=.2)#####il faut changer ici le nombre d'epochs à 50\n",
        "\n",
        "\"\"\"predictions = autoencoder.predict(x)\n",
        "pred_a = predictions[np.argwhere(y == 0).flatten()]\n",
        "pred_b = predictions[np.argwhere(y == 1).flatten()]\n",
        "\n",
        "plt.plot(pred_a[:500, :, 0].transpose(), color='blue')\n",
        "plt.plot(pred_b[:500, :, 0].transpose(), color='red')\n",
        "plt.scatter(pred_a[:1000, 0], pred_a[:1000, 1], color=\"blue\")\n",
        "plt.scatter(pred_b[:1000, 0], pred_b[:1000, 1], color=\"red\")\n",
        "\"\"\"\n",
        "my_embedded_vectors = encoder.predict(x)\n",
        "embedded_a = my_embedded_vectors[np.argwhere(y == 0).flatten()]\n",
        "embedded_b = my_embedded_vectors[np.argwhere(y == 1).flatten()]\n",
        "plt.scatter(embedded_a[:1000, 0], embedded_a[:1000, 1], color=\"blue\")\n",
        "plt.scatter(embedded_b[:1000, 0], embedded_b[:1000, 1], color=\"red\")"
      ],
      "execution_count": 8,
      "outputs": [
        {
          "output_type": "stream",
          "name": "stdout",
          "text": [
            "Epoch 1/25\n",
            "750/750 [==============================] - 12s 12ms/step - loss: 25.9623 - val_loss: 8.0242\n",
            "Epoch 2/25\n",
            "750/750 [==============================] - 8s 11ms/step - loss: 7.7067 - val_loss: 7.7888\n",
            "Epoch 3/25\n",
            "750/750 [==============================] - 8s 11ms/step - loss: 7.6485 - val_loss: 7.7359\n",
            "Epoch 4/25\n",
            "750/750 [==============================] - 8s 11ms/step - loss: 7.3902 - val_loss: 7.2203\n",
            "Epoch 5/25\n",
            "750/750 [==============================] - 8s 11ms/step - loss: 6.6447 - val_loss: 5.9966\n",
            "Epoch 6/25\n",
            "750/750 [==============================] - 8s 11ms/step - loss: 5.6553 - val_loss: 4.7836\n",
            "Epoch 7/25\n",
            "750/750 [==============================] - 9s 11ms/step - loss: 4.8632 - val_loss: 3.3660\n",
            "Epoch 8/25\n",
            "750/750 [==============================] - 8s 11ms/step - loss: 4.1235 - val_loss: 2.5716\n",
            "Epoch 9/25\n",
            "750/750 [==============================] - 9s 11ms/step - loss: 3.5744 - val_loss: 2.0999\n",
            "Epoch 10/25\n",
            "750/750 [==============================] - 8s 11ms/step - loss: 3.0455 - val_loss: 1.6719\n",
            "Epoch 11/25\n",
            "750/750 [==============================] - 8s 11ms/step - loss: 2.6315 - val_loss: 1.4991\n",
            "Epoch 12/25\n",
            "750/750 [==============================] - 9s 11ms/step - loss: 2.3157 - val_loss: 1.3094\n",
            "Epoch 13/25\n",
            "750/750 [==============================] - 8s 11ms/step - loss: 2.0680 - val_loss: 1.3144\n",
            "Epoch 14/25\n",
            "750/750 [==============================] - 8s 11ms/step - loss: 1.9059 - val_loss: 1.1984\n",
            "Epoch 15/25\n",
            "750/750 [==============================] - 8s 11ms/step - loss: 1.8057 - val_loss: 1.1910\n",
            "Epoch 16/25\n",
            "750/750 [==============================] - 8s 11ms/step - loss: 1.7381 - val_loss: 1.1665\n",
            "Epoch 17/25\n",
            "750/750 [==============================] - 8s 11ms/step - loss: 1.6729 - val_loss: 1.1588\n",
            "Epoch 18/25\n",
            "750/750 [==============================] - 8s 11ms/step - loss: 1.6247 - val_loss: 1.1273\n",
            "Epoch 19/25\n",
            "750/750 [==============================] - 8s 11ms/step - loss: 1.5966 - val_loss: 1.1249\n",
            "Epoch 20/25\n",
            "750/750 [==============================] - 8s 11ms/step - loss: 1.5539 - val_loss: 1.1426\n",
            "Epoch 21/25\n",
            "750/750 [==============================] - 9s 11ms/step - loss: 1.5222 - val_loss: 1.1388\n",
            "Epoch 22/25\n",
            "750/750 [==============================] - 8s 11ms/step - loss: 1.4841 - val_loss: 1.1305\n",
            "Epoch 23/25\n",
            "750/750 [==============================] - 8s 11ms/step - loss: 1.4645 - val_loss: 1.1241\n",
            "Epoch 24/25\n",
            "750/750 [==============================] - 9s 11ms/step - loss: 1.4557 - val_loss: 1.1201\n",
            "Epoch 25/25\n",
            "750/750 [==============================] - 8s 11ms/step - loss: 1.4353 - val_loss: 1.1566\n"
          ]
        },
        {
          "output_type": "execute_result",
          "data": {
            "text/plain": [
              "<matplotlib.collections.PathCollection at 0x7f2ebabdf550>"
            ]
          },
          "metadata": {},
          "execution_count": 8
        },
        {
          "output_type": "display_data",
          "data": {
            "image/png": "[encoded data removed]",
            "text/plain": [
              "<Figure size 432x288 with 1 Axes>"
            ]
          },
          "metadata": {
            "needs_background": "light"
          }
        }
      ]
    }
  ]
}